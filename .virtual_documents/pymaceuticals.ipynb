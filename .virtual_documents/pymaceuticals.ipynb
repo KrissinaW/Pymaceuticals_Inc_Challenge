


# Dependencies and Setup
import matplotlib.pyplot as plt
import pandas as pd
import scipy.stats as st

# Study data files
mouse_metadata_path = "data/Mouse_metadata.csv"
study_results_path = "data/Study_results.csv"

# Read the mouse data and the study results
mouse_metadata = pd.read_csv(mouse_metadata_path)
study_results = pd.read_csv(study_results_path)

# Combine the data into a single DataFrame
full_mouse_study_df= pd.merge(study_results,mouse_metadata, how= "left", on=["Mouse ID"])

# Display the data table for preview
full_mouse_study_df.head()


# Checking the number of mice.
mouse_count= len(full_mouse_study_df["Mouse ID"].unique())
print(f"Total number of mice in treatment is:{mouse_count}")


# Our data should be uniquely identified by Mouse ID and Timepoint
#check for any mouse ID with duplicate time points
duplicate_mice= full_mouse_study_df.duplicated(subset=["Mouse ID", "Timepoint"], keep=False)

# Get the duplicate mice by ID number that shows up for Mouse ID and Timepoint. 
duplicate_mice_ID= full_mouse_study_df.loc[duplicate_mice, "Mouse ID"].unique()



# Optional: Get all the data for the duplicate mouse ID. 
duplicate_mice_ID_data= full_mouse_study_df.loc[full_mouse_study_df["Mouse ID"] == duplicate_mice_ID[0]]
duplicate_mice_ID_data


# Create a clean DataFrame by dropping the duplicate mouse by its ID.
clean_data_df= full_mouse_study_df[full_mouse_study_df["Mouse ID"].isin(duplicate_mice_ID)==False]
clean_data_df.head()


# Checking the number of mice in the clean DataFrame.
count_mice_df= len(clean_data_df["Mouse ID"].unique())
count_mice_df





# Generate a summary statistics table of mean, median, variance, standard deviation, and SEM of the tumor volume for each regimen

# Use groupby and summary statistical methods to calculate the following properties of each drug regimen:
Drug_Regimen_group= clean_data_df.groupby("Drug Regimen")
                                          
# mean, median, variance, standard deviation, and SEM of the tumor volume. 
mean= Drug_Regimen_group["Tumor Volume (mm3)"].mean()
median= Drug_Regimen_group["Tumor Volume (mm3)"].median()
variance= Drug_Regimen_group["Tumor Volume (mm3)"].var()
standard_deviation=Drug_Regimen_group["Tumor Volume (mm3)"].std()
SEM= Drug_Regimen_group["Tumor Volume (mm3)"].sem()

# Assemble the resulting series into a single summary DataFrame.
single_summary_df= pd.DataFrame({
    "Mean Tumor Volume" : mean,
    "Median Tumor Volume" :  median,	
    "Tumor Volume Variance" : variance,
    "Tumor Volume Standard Deviation": standard_deviation,
    "Tumor Volume Standard Error of Mean (SEM)":  SEM})

single_summary_df.head()
                                         


# A more advanced method to generate a summary statistics table of mean, median, variance, standard deviation,
# and SEM of the tumor volume for each regimen (only one method is required in the solution)

# Using the aggregation method, produce the same summary statistics in a single line
summary_stats = clean_data_df.groupby("Drug Regimen")["Tumor Volume (mm3)"].agg(["mean", "median", "var", "std", "sem"])

#rename columns for clarity
summary_Agg_df =summary_stats.rename(columns={"mean": "Mean", "median": "Median", "var": "Variance", "std": "Standard Deviation", "sem": "SEM" })

summary_Agg_df








# Generate a bar plot showing the total number of rows (Mouse ID/Timepoints) each drug regimen using Pandas.
# Plotting the bar plot
mice_count = clean_data_df["Drug Regimen"].value_counts()
first_bar_chart = mice_count.plot.bar(color='tab:blue')  

# Axis Display
plt.xlabel("Drug Regimen")
plt.ylabel("Number of Observed Mouse Timepoints")
plt.title("Total Number of Rows (Mouse ID/Timepoints) for Each Drug Regimen")

plt.show()


# Generate a bar plot showing the total number of rows (Mouse ID/Timepoints) for each drug regimen using pyplot.
x_axis = mice_count.index.values
y_axis = mice_count.values

# Creating a new bar plot using Matplotlib's pyplot
plt.bar(x_axis, y_axis, color='tab:blue', alpha=1, align='center')

# Adding labels and title
plt.xlabel("Drug Regimen")
plt.ylabel("Number of Observed Mouse Timepoints")
plt.xticks(rotation="vertical")
plt.title("Total Number of Rows (Mouse ID/Timepoints) for Each Drug Regimen")

plt.show()


# calc number of mice per sex
mice_sex= clean_data_df.groupby("Sex")["Sex"].count()
mice_sex


# Generate a pie plot showing the distribution of female versus male mice using Pandas
pd_pie_sex= mice_sex.plot(kind= "pie", autopct= "%1.1f%%", figsize= (5,5))

plt.axis("equal")

pd_pie_sex.set_title(label="Distribution of Female versus Male Mice")
pd_pie_sex.set_ylabel("Sex")

plt.show()


# Generate a pie plot showing the distribution of female versus male mice using pyplot
lables= ["Female", "Male"]
sizes = [49.8989395, 50.700902]

plt.figure(figsize=(5, 5))
plot= mice_sex.plot.pie(y= "Total Count", autopct= "%1.1f%%")

plt.title("Distribution of Female versus Male Mice")
plt.ylabel("Sex")
plt.axis("equal")  
plt.show()





# Calculate the final tumor volume of each mouse across four of the treatment regimens:  
# Capomulin, Ramicane, Infubinol, and Ceftamin

# Start by getting the last (greatest) timepoint for each mouse
tumor_vol_final= clean_data_df.groupby(["Mouse ID"]).max()
tumor_vol_final_df= tumor_vol_final.reset_index()

# Merge this group df with the original DataFrame to get the tumor volume at the last timepoint
timepoint_clean_data_df= tumor_vol_final_df[["Mouse ID", "Timepoint"]].\
 merge(clean_data_df, on=["Mouse ID", "Timepoint"], how= "left")


# Put treatments into a list for for loop (and later for plot labels)
regimen = ["Capomulin", "Ramicane", "Infubinol", "Ceftamin"]
    
# Create empty list to fill with tumor vol data (for plotting)
tumor_vol_data_list = []

def analyze_outliers(drug):

     # Locate the rows which contain mice on each drug and get the tumor volumes
    tumor_vol_final = timepoint_clean_data_df.loc[timepoint_clean_data_df["Drug Regimen"] == drug,"Tumor Volume (mm3)"]

     # add subset 
    tumor_vol_data_list.append(tumor_vol_final)

    # Calculate the IQR and quantitatively determine if there are any potential outliers. 
    quartiles = tumor_vol_final.quantile([0.25,0.5,0.75])
    quart_first = quartiles[0.25]
    quart_third = quartiles[0.75]
    mean= tumor_vol_final.mean()
    quart_IQR = quart_third - quart_first
    lower_bound = quart_first - (1.5 * quart_IQR)
    upper_bound = quart_third + (1.5 * quart_IQR)

    # Determine outliers using upper and lower bounds
    outliers = tumor_vol_final.loc[(tumor_vol_final<lower_bound) | (tumor_vol_final>upper_bound)]

    
    print(f"{drug}'s potential outliers:{outliers}")
    return tumor_vol_final

for drug in regimen:
    tumor_vol_data_list.append(analyze_outliers(drug))



# Generate a box plot that shows the distrubution of the tumor volume for each treatment group.
# Define the treatment groups
treatment_groups = ["Capomulin", "Ramicane", "Infubinol", "Ceftamin"]

# Extract tumor volume data for each treatment group
tumor_vol_data_list = [timepoint_clean_data_df.loc[timepoint_clean_data_df["Drug Regimen"] == drug, "Tumor Volume (mm3)"] for drug in treatment_groups]

# Generate box plot
fig1, ax1 = plt.subplots()
ax1.set_title("Distribution of Tumor Volume for Each Treatment Group")
ax1.set_ylabel("Final Tumor Volume (mm3)")
ax1.boxplot(tumor_vol_data_list, labels=treatment_groups, showfliers=True, flierprops=dict(marker='o', markerfacecolor='r', markersize=8))
plt.xticks(rotation="horizontal")  
plt.show()





# Generate a line plot of tumor volume vs. time point for a single mouse treated with Capomulin

#Capomulin data
Cap_only= clean_data_df[clean_data_df["Drug Regimen"] == "Capomulin"]

#Mouse data
mouse_id = "l509"
mouse_data= Cap_only[Cap_only["Mouse ID"]== mouse_id]

#line plot
plt.plot(mouse_data["Timepoint"],mouse_data["Tumor Volume (mm3)"],linewidth=2, marker="o", color="#0072BD")

plt.title("Capomulin Treatment of Mouse l509")
plt.xlabel("Timepoint (days)")
plt.ylabel("Tumor Volume (mm3)")

plt.tight_layout()
plt.show()


# Generate a scatter plot of mouse weight vs. the average observed tumor volume for the entire Capomulin regimen

#Average tumor volume for each mouse 
average_tumor_volume = clean_data_df.groupby("Mouse ID")["Tumor Volume (mm3)"].mean()

#Merge tumor volume, mouse weight, and drug regimen data
merged_data = pd.merge(average_tumor_volume, clean_data_df[["Mouse ID", "Weight (g)", "Drug Regimen"]], on="Mouse ID", how="left")

capomulin_data = merged_data[merged_data["Drug Regimen"] == "Capomulin"]

plt.figure(figsize=(8, 5))
plt.scatter(capomulin_data["Weight (g)"], capomulin_data["Tumor Volume (mm3)"], marker="o", color="#0072BD")
plt.title("Mouse Weight vs. Average Tumor Volume (Capomulin Regimen)")
plt.xlabel("Weight (g)")
plt.ylabel("Average Tumor Volume (mm3)")

plt.show()





# Calculate the correlation coefficient and a linear regression model 
# for mouse weight and average observed tumor volume for the entire Capomulin regimen

# Plot the scatter plot
plt.figure(figsize=(8, 6))
plt.scatter(capomulin_data["Weight (g)"], capomulin_data["Tumor Volume (mm3)"], label='Data')

# Fit a linear regression model
(slope, intercept, r_value, p_value, std_err) = st.linregress(capomulin_data["Weight (g)"], capomulin_data["Tumor Volume (mm3)"])

# Plot the linear regression line
plt.plot(capomulin_data["Weight (g)"], slope * capomulin_data["Weight (g)"] + intercept, color='red', label='Trend Line')

# Add labels and title
plt.title("Mouse Weight vs. Tumor Volume")
plt.xlabel("Weight (g)")
plt.ylabel("Tumor Volume (mm3)")

# Show the plot
plt.show()



